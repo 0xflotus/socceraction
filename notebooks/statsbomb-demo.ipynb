{
 "cells": [
  {
   "cell_type": "code",
   "execution_count": 1,
   "metadata": {},
   "outputs": [
    {
     "ename": "AttributeError",
     "evalue": "module 'socceraction' has no attribute 'spadl'",
     "output_type": "error",
     "traceback": [
      "\u001b[0;31m---------------------------------------------------------------------------\u001b[0m",
      "\u001b[0;31mAttributeError\u001b[0m                            Traceback (most recent call last)",
      "\u001b[0;32m<ipython-input-1-c8d86c114d56>\u001b[0m in \u001b[0;36m<module>\u001b[0;34m\u001b[0m\n\u001b[1;32m      4\u001b[0m \u001b[0;32mimport\u001b[0m \u001b[0mpandas\u001b[0m \u001b[0;32mas\u001b[0m \u001b[0mpd\u001b[0m\u001b[0;34m\u001b[0m\u001b[0m\n\u001b[1;32m      5\u001b[0m \u001b[0;32mimport\u001b[0m \u001b[0mtqdm\u001b[0m\u001b[0;34m\u001b[0m\u001b[0m\n\u001b[0;32m----> 6\u001b[0;31m \u001b[0;32mimport\u001b[0m \u001b[0msocceraction\u001b[0m\u001b[0;34m.\u001b[0m\u001b[0mspadl\u001b[0m \u001b[0;32mas\u001b[0m \u001b[0mspadl\u001b[0m\u001b[0;34m\u001b[0m\u001b[0m\n\u001b[0m",
      "\u001b[0;32m/mnt/d/work/socceraction/socceraction/spadl/__init__.py\u001b[0m in \u001b[0;36m<module>\u001b[0;34m\u001b[0m\n\u001b[0;32m----> 1\u001b[0;31m \u001b[0;32mimport\u001b[0m \u001b[0msocceraction\u001b[0m\u001b[0;34m.\u001b[0m\u001b[0mspadl\u001b[0m\u001b[0;34m.\u001b[0m\u001b[0mopta\u001b[0m \u001b[0;32mas\u001b[0m \u001b[0mopta\u001b[0m\u001b[0;34m\u001b[0m\u001b[0m\n\u001b[0m\u001b[1;32m      2\u001b[0m \u001b[0;32mimport\u001b[0m \u001b[0msocceraction\u001b[0m\u001b[0;34m.\u001b[0m\u001b[0mspadl\u001b[0m\u001b[0;34m.\u001b[0m\u001b[0mstatsbomb\u001b[0m \u001b[0;32mas\u001b[0m \u001b[0mstatsbomb\u001b[0m\u001b[0;34m\u001b[0m\u001b[0m\n\u001b[1;32m      3\u001b[0m \u001b[0;32mfrom\u001b[0m \u001b[0msocceraction\u001b[0m\u001b[0;34m.\u001b[0m\u001b[0mspadlcfg\u001b[0m \u001b[0;32mimport\u001b[0m \u001b[0;34m*\u001b[0m\u001b[0;34m\u001b[0m\u001b[0m\n\u001b[1;32m      4\u001b[0m \u001b[0;34m\u001b[0m\u001b[0m\n\u001b[1;32m      5\u001b[0m \u001b[0moptajson_to_optah5\u001b[0m \u001b[0;34m=\u001b[0m \u001b[0mopta\u001b[0m\u001b[0;34m.\u001b[0m\u001b[0mjsonfiles_to_h5\u001b[0m\u001b[0;34m\u001b[0m\u001b[0m\n",
      "\u001b[0;32m/mnt/d/work/socceraction/socceraction/spadl/opta.py\u001b[0m in \u001b[0;36m<module>\u001b[0;34m\u001b[0m\n\u001b[1;32m    462\u001b[0m \u001b[0;31m##############################\u001b[0m\u001b[0;34m\u001b[0m\u001b[0;34m\u001b[0m\u001b[0m\n\u001b[1;32m    463\u001b[0m \u001b[0;34m\u001b[0m\u001b[0m\n\u001b[0;32m--> 464\u001b[0;31m \u001b[0;32mimport\u001b[0m \u001b[0msocceraction\u001b[0m\u001b[0;34m.\u001b[0m\u001b[0mspadl\u001b[0m\u001b[0;34m.\u001b[0m\u001b[0mspadlcfg\u001b[0m \u001b[0;32mas\u001b[0m \u001b[0mspadlcfg\u001b[0m\u001b[0;34m\u001b[0m\u001b[0m\n\u001b[0m\u001b[1;32m    465\u001b[0m \u001b[0;34m\u001b[0m\u001b[0m\n\u001b[1;32m    466\u001b[0m \u001b[0mspadl_length\u001b[0m \u001b[0;34m=\u001b[0m \u001b[0mspadlcfg\u001b[0m\u001b[0;34m.\u001b[0m\u001b[0mspadl_length\u001b[0m\u001b[0;34m\u001b[0m\u001b[0m\n",
      "\u001b[0;31mAttributeError\u001b[0m: module 'socceraction' has no attribute 'spadl'"
     ]
    }
   ],
   "source": [
    "%load_ext autoreload\n",
    "%autoreload 2\n",
    "import os; import sys;sys.path.append(\"..\")\n",
    "import pandas as pd\n",
    "import tqdm\n",
    "import socceraction.spadl as spadl"
   ]
  },
  {
   "cell_type": "code",
   "execution_count": null,
   "metadata": {},
   "outputs": [],
   "source": [
    "import urllib\n",
    "\n",
    "url = \"https://github.com/statsbomb/open-data/archive/master.zip\"\n",
    "urllib.request.urlretrieve(url, '../data/statsbomb-open-data.zip')"
   ]
  },
  {
   "cell_type": "code",
   "execution_count": null,
   "metadata": {},
   "outputs": [],
   "source": [
    "import zipfile\n",
    "\n",
    "with zipfile.ZipFile('../data/statsbomb-open-data.zip', 'r') as zipObj:\n",
    "    zipObj.extractall('../data')"
   ]
  },
  {
   "cell_type": "code",
   "execution_count": null,
   "metadata": {},
   "outputs": [],
   "source": [
    "%%time\n",
    "spadl.spadl_length\n",
    "#statsbomb.jsonfiles_to_h5(\"../data/open-data-master/data\",\"../data/statsbomb.h5\")"
   ]
  },
  {
   "cell_type": "code",
   "execution_count": null,
   "metadata": {
    "scrolled": true
   },
   "outputs": [],
   "source": [
    "matches = pd.read_hdf(\"../data/statsbomb.h5\",\"matches\")\n",
    "match_id = matches.match_id[0]\n",
    "events = pd.read_hdf(\"../data/statsbomb.h5\",f'events/match_{match_id}')\n",
    "matches\n",
    "#events"
   ]
  },
  {
   "cell_type": "code",
   "execution_count": null,
   "metadata": {},
   "outputs": [],
   "source": []
  }
 ],
 "metadata": {
  "kernelspec": {
   "display_name": "Python 3",
   "language": "python",
   "name": "python3"
  },
  "language_info": {
   "codemirror_mode": {
    "name": "ipython",
    "version": 3
   },
   "file_extension": ".py",
   "mimetype": "text/x-python",
   "name": "python",
   "nbconvert_exporter": "python",
   "pygments_lexer": "ipython3",
   "version": "3.6.6"
  }
 },
 "nbformat": 4,
 "nbformat_minor": 2
}
