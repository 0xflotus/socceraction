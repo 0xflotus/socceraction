{
 "cells": [
  {
   "cell_type": "code",
   "execution_count": 1,
   "metadata": {},
   "outputs": [],
   "source": [
    "%load_ext autoreload\n",
    "%autoreload 2\n",
    "import os; import sys;sys.path.append(\"..\")\n",
    "import socceraction.vaep as vaep\n",
    "import pandas as pd\n",
    "import tqdm\n",
    "import matplotsoccer as mps"
   ]
  },
  {
   "cell_type": "code",
   "execution_count": 2,
   "metadata": {},
   "outputs": [
    {
     "name": "stderr",
     "output_type": "stream",
     "text": [
      "/home/tomd/software/miniconda3/envs/soccer/lib/python3.7/importlib/_bootstrap.py:219: RuntimeWarning: numpy.dtype size changed, may indicate binary incompatibility. Expected 96, got 88\n",
      "  return f(*args, **kwds)\n"
     ]
    }
   ],
   "source": [
    "games = pd.read_hdf(\"../data/spadl.h5\",\"games\")\n",
    "\n",
    "actiontypes = pd.read_hdf(\"../data/spadl.h5\", \"actiontypes\")\n",
    "bodyparts = pd.read_hdf(\"../data/spadl.h5\", \"bodyparts\")\n",
    "results = pd.read_hdf(\"../data/spadl.h5\", \"results\")\n",
    "\n",
    "players = pd.read_hdf(\"../data/spadl.h5\", \"players\")\n",
    "teams = pd.read_hdf(\"../data/spadl.h5\", \"teams\")\n",
    "\n",
    "#players = players.set_index(\"player_id\")\n",
    "#teams = teams.set_index(\"team_id\")"
   ]
  },
  {
   "cell_type": "code",
   "execution_count": 3,
   "metadata": {},
   "outputs": [
    {
     "name": "stderr",
     "output_type": "stream",
     "text": [
      "100%|██████████| 45/45 [00:03<00:00, 13.36it/s]\n"
     ]
    }
   ],
   "source": [
    "A = []\n",
    "for game in tqdm.tqdm(list(games.itertuples())):\n",
    "    actions = pd.read_hdf(\"../data/spadl.h5\",f\"actions/game_{game.game_id}\")\n",
    "    actions = (\n",
    "        actions.merge(actiontypes)\n",
    "        .merge(results)\n",
    "        .merge(bodyparts)\n",
    "        .merge(players,\"left\",on=\"player_id\")\n",
    "        .merge(teams,\"left\",on=\"team_id\")\n",
    "        .sort_values([\"period_id\", \"time_seconds\", \"timestamp\"])\n",
    "        .reset_index(drop=True)\n",
    "    )\n",
    "    preds = pd.read_hdf(\"../data/predictions.h5\",f\"game_{game.game_id}\")\n",
    "    #preds = preds.reset_index(drop=True)\n",
    "    values = vaep.value(actions,preds.scores,preds.concedes)\n",
    "    A.append(pd.concat([actions,preds,values],axis=1))\n",
    "A = pd.concat(A).sort_values([\"game_id\",\"period_id\", \"time_seconds\", \"timestamp\"]).reset_index(drop=True)"
   ]
  },
  {
   "cell_type": "code",
   "execution_count": 4,
   "metadata": {},
   "outputs": [
    {
     "data": {
      "text/plain": [
       "Index(['game_id', 'period_id', 'time_seconds', 'timestamp', 'team_id',\n",
       "       'player_id', 'start_x', 'start_y', 'end_x', 'end_y', 'result_id',\n",
       "       'bodypart_id', 'type_id', 'type_name', 'result_name', 'bodypart_name',\n",
       "       'first_name', 'fullname', 'soccer_name', 'last_name', 'birthday',\n",
       "       'nation_id', 'team_abbr', 'team_name', 'team_short', 'scores',\n",
       "       'concedes', 'offensive_value', 'defensive_value', 'vaep_value'],\n",
       "      dtype='object')"
      ]
     },
     "execution_count": 4,
     "metadata": {},
     "output_type": "execute_result"
    }
   ],
   "source": [
    "A.columns"
   ]
  },
  {
   "cell_type": "code",
   "execution_count": 1,
   "metadata": {
    "scrolled": false
   },
   "outputs": [
    {
     "ename": "ModuleNotFoundError",
     "evalue": "No module named 'socceraction'",
     "output_type": "error",
     "traceback": [
      "\u001b[0;31m---------------------------------------------------------------------------\u001b[0m",
      "\u001b[0;31mModuleNotFoundError\u001b[0m                       Traceback (most recent call last)",
      "\u001b[0;32m<ipython-input-1-cae26976f963>\u001b[0m in \u001b[0;36m<module>\u001b[0;34m\u001b[0m\n\u001b[0;32m----> 1\u001b[0;31m \u001b[0;32mimport\u001b[0m \u001b[0msocceraction\u001b[0m\u001b[0;34m.\u001b[0m\u001b[0mclassification\u001b[0m\u001b[0;34m.\u001b[0m\u001b[0mfeatures\u001b[0m \u001b[0;32mas\u001b[0m \u001b[0mfs\u001b[0m\u001b[0;34m\u001b[0m\u001b[0;34m\u001b[0m\u001b[0m\n\u001b[0m\u001b[1;32m      2\u001b[0m \u001b[0;34m\u001b[0m\u001b[0m\n\u001b[1;32m      3\u001b[0m \u001b[0;34m\u001b[0m\u001b[0m\n\u001b[1;32m      4\u001b[0m \u001b[0mi\u001b[0m \u001b[0;34m=\u001b[0m \u001b[0;36m58\u001b[0m\u001b[0;34m\u001b[0m\u001b[0;34m\u001b[0m\u001b[0m\n\u001b[1;32m      5\u001b[0m \u001b[0;32mfor\u001b[0m \u001b[0mj\u001b[0m \u001b[0;32min\u001b[0m \u001b[0mrange\u001b[0m\u001b[0;34m(\u001b[0m\u001b[0mi\u001b[0m\u001b[0;34m,\u001b[0m\u001b[0mi\u001b[0m\u001b[0;34m+\u001b[0m\u001b[0;36m20\u001b[0m\u001b[0;34m)\u001b[0m\u001b[0;34m:\u001b[0m\u001b[0;34m\u001b[0m\u001b[0;34m\u001b[0m\u001b[0m\n",
      "\u001b[0;31mModuleNotFoundError\u001b[0m: No module named 'socceraction'"
     ]
    }
   ],
   "source": [
    "import socceraction.classification.features as fs\n",
    "\n",
    "\n",
    "i = 58\n",
    "for j in range(i,i+20):\n",
    "    i = A.sort_values(\"offensive_value\", ascending=False).index[j]\n",
    "    a = A[i - 5 : i+1].copy()\n",
    "    #a = a[1:6]\n",
    "    mov = fs.movement(a)\n",
    "    a[\"mov\"] = mov[\"movement_a0\"].apply(lambda x : \"%.1f\" % x )\n",
    "    a[\"scores\"] = a.scores.apply(lambda x : \"%.3f\" % x )\n",
    "    a[\"vaep_value\"] = a.vaep_value.apply(lambda x : \"%.3f\" % x )\n",
    "    labels = a[[\"time_seconds\",\"type_name\",\"mov\",\"soccer_name\",\"team_abbr\",\"scores\",\"vaep_value\"]]\n",
    "    labeltitle = [\"TIME\", \"PLAYER\",\"ACTION\",\"$P_{scores}$\",\" VALUE\"]\n",
    "    mps.actions(a[[\"start_x\",\"start_y\",\"end_x\",\"end_y\"]],\n",
    "                a.type_name,\n",
    "                team=a.team_name,\n",
    "                result = a.result_id,\n",
    "                label=labels,zoom=True)\n",
    "#A.sort_values(\"offensive_value\", ascending=False).type_name"
   ]
  },
  {
   "cell_type": "code",
   "execution_count": 6,
   "metadata": {},
   "outputs": [
    {
     "data": {
      "text/html": [
       "<div>\n",
       "<style scoped>\n",
       "    .dataframe tbody tr th:only-of-type {\n",
       "        vertical-align: middle;\n",
       "    }\n",
       "\n",
       "    .dataframe tbody tr th {\n",
       "        vertical-align: top;\n",
       "    }\n",
       "\n",
       "    .dataframe thead th {\n",
       "        text-align: right;\n",
       "    }\n",
       "</style>\n",
       "<table border=\"1\" class=\"dataframe\">\n",
       "  <thead>\n",
       "    <tr style=\"text-align: right;\">\n",
       "      <th></th>\n",
       "      <th>time_seconds</th>\n",
       "      <th>timestamp</th>\n",
       "      <th>type_name</th>\n",
       "      <th>end_y</th>\n",
       "      <th>start_y</th>\n",
       "      <th>mov</th>\n",
       "      <th>player_id</th>\n",
       "      <th>soccer_name</th>\n",
       "      <th>team_abbr</th>\n",
       "      <th>scores</th>\n",
       "      <th>vaep_value</th>\n",
       "    </tr>\n",
       "  </thead>\n",
       "  <tbody>\n",
       "    <tr>\n",
       "      <th>49275</th>\n",
       "      <td>3031.0</td>\n",
       "      <td>2016-02-28 21:12:48</td>\n",
       "      <td>pass</td>\n",
       "      <td>44.880</td>\n",
       "      <td>46.920</td>\n",
       "      <td>11.2</td>\n",
       "      <td>54782.0</td>\n",
       "      <td>Javier Pastore</td>\n",
       "      <td>PSG</td>\n",
       "      <td>0.118</td>\n",
       "      <td>0.061</td>\n",
       "    </tr>\n",
       "    <tr>\n",
       "      <th>49276</th>\n",
       "      <td>3033.0</td>\n",
       "      <td>2016-02-28 21:12:50</td>\n",
       "      <td>pass</td>\n",
       "      <td>43.452</td>\n",
       "      <td>44.880</td>\n",
       "      <td>4.2</td>\n",
       "      <td>40720.0</td>\n",
       "      <td>Edinson Cavani</td>\n",
       "      <td>PSG</td>\n",
       "      <td>0.118</td>\n",
       "      <td>-0.000</td>\n",
       "    </tr>\n",
       "    <tr>\n",
       "      <th>49277</th>\n",
       "      <td>3035.0</td>\n",
       "      <td>2016-02-28 21:12:53</td>\n",
       "      <td>dribble</td>\n",
       "      <td>43.724</td>\n",
       "      <td>39.780</td>\n",
       "      <td>4.1</td>\n",
       "      <td>149519.0</td>\n",
       "      <td>Maxwel Cornet</td>\n",
       "      <td>LYN</td>\n",
       "      <td>0.006</td>\n",
       "      <td>0.063</td>\n",
       "    </tr>\n",
       "    <tr>\n",
       "      <th>49278</th>\n",
       "      <td>3035.0</td>\n",
       "      <td>2016-02-28 21:12:53</td>\n",
       "      <td>tackle</td>\n",
       "      <td>43.724</td>\n",
       "      <td>43.724</td>\n",
       "      <td>0.0</td>\n",
       "      <td>149519.0</td>\n",
       "      <td>Maxwel Cornet</td>\n",
       "      <td>LYN</td>\n",
       "      <td>0.006</td>\n",
       "      <td>0.000</td>\n",
       "    </tr>\n",
       "    <tr>\n",
       "      <th>49279</th>\n",
       "      <td>3035.0</td>\n",
       "      <td>2016-02-28 21:12:53</td>\n",
       "      <td>bad_touch</td>\n",
       "      <td>39.780</td>\n",
       "      <td>39.780</td>\n",
       "      <td>0.0</td>\n",
       "      <td>44488.0</td>\n",
       "      <td>Mapou Yanga-Mbiwa</td>\n",
       "      <td>LYN</td>\n",
       "      <td>0.003</td>\n",
       "      <td>-0.103</td>\n",
       "    </tr>\n",
       "    <tr>\n",
       "      <th>49280</th>\n",
       "      <td>3037.0</td>\n",
       "      <td>2016-02-28 21:12:54</td>\n",
       "      <td>shot</td>\n",
       "      <td>31.280</td>\n",
       "      <td>37.128</td>\n",
       "      <td>14.4</td>\n",
       "      <td>95715.0</td>\n",
       "      <td>Lucas Moura</td>\n",
       "      <td>PSG</td>\n",
       "      <td>0.966</td>\n",
       "      <td>0.807</td>\n",
       "    </tr>\n",
       "  </tbody>\n",
       "</table>\n",
       "</div>"
      ],
      "text/plain": [
       "       time_seconds           timestamp  type_name   end_y  start_y   mov  \\\n",
       "49275        3031.0 2016-02-28 21:12:48       pass  44.880   46.920  11.2   \n",
       "49276        3033.0 2016-02-28 21:12:50       pass  43.452   44.880   4.2   \n",
       "49277        3035.0 2016-02-28 21:12:53    dribble  43.724   39.780   4.1   \n",
       "49278        3035.0 2016-02-28 21:12:53     tackle  43.724   43.724   0.0   \n",
       "49279        3035.0 2016-02-28 21:12:53  bad_touch  39.780   39.780   0.0   \n",
       "49280        3037.0 2016-02-28 21:12:54       shot  31.280   37.128  14.4   \n",
       "\n",
       "       player_id        soccer_name team_abbr scores vaep_value  \n",
       "49275    54782.0     Javier Pastore       PSG  0.118      0.061  \n",
       "49276    40720.0     Edinson Cavani       PSG  0.118     -0.000  \n",
       "49277   149519.0      Maxwel Cornet       LYN  0.006      0.063  \n",
       "49278   149519.0      Maxwel Cornet       LYN  0.006      0.000  \n",
       "49279    44488.0  Mapou Yanga-Mbiwa       LYN  0.003     -0.103  \n",
       "49280    95715.0        Lucas Moura       PSG  0.966      0.807  "
      ]
     },
     "execution_count": 6,
     "metadata": {},
     "output_type": "execute_result"
    }
   ],
   "source": [
    "a[[\"time_seconds\",\"timestamp\",\"type_name\",\"end_y\",\"start_y\",\"mov\",\"player_id\",\"soccer_name\",\"team_abbr\",\"scores\",\"vaep_value\"]]"
   ]
  },
  {
   "cell_type": "code",
   "execution_count": 7,
   "metadata": {},
   "outputs": [
    {
     "name": "stdout",
     "output_type": "stream",
     "text": [
      "       time_seconds  type_name\n",
      "49275        3031.0       pass\n",
      "49276        3033.0       pass\n",
      "49277        3035.0    dribble\n",
      "49279        3035.0  bad_touch\n",
      "49280        3037.0       shot\n"
     ]
    },
    {
     "data": {
      "text/plain": [
       "49275    False\n",
       "49276    False\n",
       "49277     True\n",
       "49279    False\n",
       "49280    False\n",
       "dtype: bool"
      ]
     },
     "execution_count": 7,
     "metadata": {},
     "output_type": "execute_result"
    }
   ],
   "source": []
  }
 ],
 "metadata": {
  "kernelspec": {
   "display_name": "Python 3",
   "language": "python",
   "name": "python3"
  },
  "language_info": {
   "codemirror_mode": {
    "name": "ipython",
    "version": 3
   },
   "file_extension": ".py",
   "mimetype": "text/x-python",
   "name": "python",
   "nbconvert_exporter": "python",
   "pygments_lexer": "ipython3",
   "version": "3.7.1"
  }
 },
 "nbformat": 4,
 "nbformat_minor": 2
}
