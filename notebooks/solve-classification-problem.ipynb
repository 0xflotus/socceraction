{
 "cells": [
  {
   "cell_type": "code",
   "execution_count": 1,
   "metadata": {},
   "outputs": [],
   "source": [
    "%load_ext autoreload\n",
    "%autoreload 2\n",
    "import os; import sys;sys.path.append(\"..\")\n",
    "import socceraction.classification.features as fs\n",
    "import socceraction.classification.labels as lab\n",
    "import pandas as pd\n",
    "import tqdm"
   ]
  },
  {
   "cell_type": "code",
   "execution_count": 2,
   "metadata": {},
   "outputs": [
    {
     "name": "stderr",
     "output_type": "stream",
     "text": [
      "/home/tomd/software/miniconda3/envs/soccer/lib/python3.7/importlib/_bootstrap.py:219: RuntimeWarning: numpy.dtype size changed, may indicate binary incompatibility. Expected 96, got 88\n",
      "  return f(*args, **kwds)\n"
     ]
    }
   ],
   "source": [
    "games = pd.read_hdf(\"../data/spadl.h5\",\"games\")\n",
    "\n",
    "actiontypes = pd.read_hdf(\"../data/spadl.h5\", \"actiontypes\")\n",
    "bodyparts = pd.read_hdf(\"../data/spadl.h5\", \"bodyparts\")\n",
    "results = pd.read_hdf(\"../data/spadl.h5\", \"results\")"
   ]
  },
  {
   "cell_type": "markdown",
   "metadata": {},
   "source": [
    "# Generate all features"
   ]
  },
  {
   "cell_type": "code",
   "execution_count": 3,
   "metadata": {},
   "outputs": [
    {
     "name": "stderr",
     "output_type": "stream",
     "text": [
      "100%|██████████| 45/45 [00:14<00:00,  3.05it/s]\n"
     ]
    }
   ],
   "source": [
    "xfns = [fs.actiontype,\n",
    "       fs.actiontype_onehot,\n",
    "       fs.bodypart,\n",
    "       fs.bodypart_onehot,\n",
    "       fs.result,\n",
    "       fs.result_onehot,\n",
    "       fs.goalscore,\n",
    "       fs.startlocation,\n",
    "       fs.endlocation,\n",
    "       fs.movement,\n",
    "       fs.space_delta,\n",
    "       fs.startpolar,\n",
    "       fs.endpolar,\n",
    "       fs.team,\n",
    "       fs.time,\n",
    "       fs.time_delta,\n",
    "       #fs.actiontype_result_onehot\n",
    "      ]\n",
    "\n",
    "for game in tqdm.tqdm(list(games.itertuples())):\n",
    "    actions = pd.read_hdf(\"../data/spadl.h5\",f\"actions/game_{game.game_id}\")\n",
    "    actions = (\n",
    "        actions.merge(actiontypes)\n",
    "        .merge(results)\n",
    "        .merge(bodyparts)\n",
    "        .sort_values([\"period_id\", \"time_seconds\", \"timestamp\"])\n",
    "        .reset_index(drop=True)\n",
    "    )\n",
    "    gamestates = fs.gamestates(actions,3)\n",
    "    gamestates = fs.play_left_to_right(gamestates,game.home_team_id)\n",
    "    \n",
    "    X = pd.concat([fn(gamestates) for fn in xfns],axis=1)\n",
    "    X.to_hdf(\"../data/features.h5\",f\"game_{game.game_id}\")"
   ]
  },
  {
   "cell_type": "code",
   "execution_count": 4,
   "metadata": {},
   "outputs": [
    {
     "data": {
      "text/plain": [
       "154"
      ]
     },
     "execution_count": 4,
     "metadata": {},
     "output_type": "execute_result"
    }
   ],
   "source": [
    "len(list(X.columns))"
   ]
  },
  {
   "cell_type": "markdown",
   "metadata": {},
   "source": [
    "# Generate all labels"
   ]
  },
  {
   "cell_type": "code",
   "execution_count": 5,
   "metadata": {},
   "outputs": [
    {
     "name": "stderr",
     "output_type": "stream",
     "text": [
      "100%|██████████| 45/45 [00:07<00:00,  5.76it/s]\n"
     ]
    }
   ],
   "source": [
    "yfns = [lab.scores,lab.concedes,lab.goal_from_shot]\n",
    "\n",
    "for game in tqdm.tqdm(list(games.itertuples())):\n",
    "    actions = pd.read_hdf(\"../data/spadl.h5\",f\"actions/game_{game.game_id}\")\n",
    "    actions = (\n",
    "        actions.merge(actiontypes)\n",
    "        .merge(results)\n",
    "        .merge(bodyparts)\n",
    "        .sort_values([\"period_id\", \"time_seconds\", \"timestamp\"])\n",
    "        .reset_index(drop=True)\n",
    "    )\n",
    "\n",
    "    Y = pd.concat([fn(actions) for fn in yfns],axis=1)\n",
    "    Y.to_hdf(\"../data/labels.h5\",f\"game_{game.game_id}\")"
   ]
  },
  {
   "cell_type": "markdown",
   "metadata": {},
   "source": [
    "# Solve a classication problem\n",
    "1. select feature set X \n",
    "2. select labels Y\n",
    "3. train a classifier F(X) = Y"
   ]
  },
  {
   "cell_type": "code",
   "execution_count": 6,
   "metadata": {},
   "outputs": [
    {
     "name": "stderr",
     "output_type": "stream",
     "text": [
      "100%|██████████| 45/45 [00:00<00:00, 78.99it/s]\n",
      "100%|██████████| 45/45 [00:00<00:00, 150.74it/s]\n"
     ]
    },
    {
     "name": "stdout",
     "output_type": "stream",
     "text": [
      "0.010262954907908052 0.8614648866512042\n",
      "CPU times: user 4.93 s, sys: 412 ms, total: 5.34 s\n",
      "Wall time: 5.22 s\n"
     ]
    }
   ],
   "source": [
    "%%time\n",
    "\n",
    "xfns = [#fs.actiontype,\n",
    "       #fs.actiontype_onehot,\n",
    "       #fs.bodypart,\n",
    "       #fs.bodypart_onehot,\n",
    "       #fs.result,\n",
    "       fs.result_onehot,\n",
    "       fs.goalscore,\n",
    "       #fs.startlocation,\n",
    "       #fs.endlocation,\n",
    "       #fs.movement,\n",
    "       #fs.space_delta,\n",
    "       #fs.startpolar,\n",
    "       fs.endpolar,\n",
    "       #fs.team,\n",
    "       fs.time,\n",
    "       #fs.time_delta,\n",
    "       #fs.actiontype_result_onehot\n",
    "      ]\n",
    "nb_prev_actions = 1\n",
    "\n",
    "cols = fs.feature_column_names(xfns,nb_prev_actions)\n",
    "\n",
    "X = []\n",
    "for game_id in tqdm.tqdm(games.game_id):\n",
    "    Xi = pd.read_hdf(\"../data/features.h5\",f\"game_{game_id}\")\n",
    "    X.append(Xi[cols])\n",
    "X = pd.concat(X)\n",
    "\n",
    "Y = []\n",
    "for game_id in tqdm.tqdm(games.game_id):\n",
    "    Yi = pd.read_hdf(\"../data/labels.h5\",f\"game_{game_id}\")\n",
    "    Y.append(Yi)\n",
    "Y = pd.concat(Y)\n",
    "\n",
    "import xgboost\n",
    "y = Y.scores\n",
    "model = xgboost.XGBClassifier()\n",
    "model.fit(X,y)\n",
    "pred_y = [p[1] for p in model.predict_proba(X)]\n",
    "\n",
    "from sklearn.metrics import brier_score_loss, roc_auc_score\n",
    "print(brier_score_loss(y,pred_y),roc_auc_score(y,pred_y))"
   ]
  },
  {
   "cell_type": "code",
   "execution_count": 7,
   "metadata": {
    "scrolled": false
   },
   "outputs": [],
   "source": [
    "import numpy as np\n",
    "import matplotlib.pyplot as plt\n",
    "xgboost.plot_importance(model)\n",
    "relevant_columns = list(np.array(cols)[model.feature_importances_ > 0])\n",
    "#plt.gcf().set_size_inches(len(relevant_columns)/10,10)"
   ]
  },
  {
   "cell_type": "markdown",
   "metadata": {},
   "source": [
    "# Repeat classification with fewer features"
   ]
  },
  {
   "cell_type": "code",
   "execution_count": 8,
   "metadata": {},
   "outputs": [
    {
     "name": "stderr",
     "output_type": "stream",
     "text": [
      "100%|██████████| 45/45 [00:00<00:00, 79.74it/s]\n",
      "100%|██████████| 45/45 [00:00<00:00, 150.90it/s]\n"
     ]
    },
    {
     "name": "stdout",
     "output_type": "stream",
     "text": [
      "0.010262954907908052 0.8614648866512042\n",
      "0.0033288088491676255 0.8950646847270272\n",
      "CPU times: user 6.61 s, sys: 28 ms, total: 6.64 s\n",
      "Wall time: 6.63 s\n"
     ]
    }
   ],
   "source": [
    "%%time\n",
    "cols = relevant_columns\n",
    "\n",
    "X = []\n",
    "for game_id in tqdm.tqdm(games.game_id):\n",
    "    Xi = pd.read_hdf(\"../data/features.h5\",f\"game_{game_id}\")\n",
    "    X.append(Xi[cols])\n",
    "X = pd.concat(X)\n",
    "\n",
    "Y = []\n",
    "for game_id in tqdm.tqdm(games.game_id):\n",
    "    Yi = pd.read_hdf(\"../data/labels.h5\",f\"game_{game_id}\")\n",
    "    Y.append(Yi)\n",
    "Y = pd.concat(Y)\n",
    "\n",
    "import xgboost\n",
    "from sklearn.metrics import brier_score_loss, roc_auc_score\n",
    "\n",
    "Y_pred = pd.DataFrame()\n",
    "for col in [\"scores\",\"concedes\"]:\n",
    "    model = xgboost.XGBClassifier()\n",
    "    model.fit(X,Y[col])\n",
    "    Y_pred[col] = [p[1] for p in model.predict_proba(X)]\n",
    "    print(brier_score_loss(Y[col],Y_pred[col]),roc_auc_score(Y[col],Y_pred[col]))"
   ]
  },
  {
   "cell_type": "markdown",
   "metadata": {},
   "source": [
    "# Save predictions"
   ]
  },
  {
   "cell_type": "code",
   "execution_count": 9,
   "metadata": {
    "scrolled": true
   },
   "outputs": [
    {
     "name": "stderr",
     "output_type": "stream",
     "text": [
      "100%|██████████| 45/45 [00:00<00:00, 83.85it/s]\n"
     ]
    }
   ],
   "source": [
    "A = []\n",
    "for game_id in tqdm.tqdm(games.game_id):\n",
    "    Ai = pd.read_hdf(\"../data/spadl.h5\",f\"actions/game_{game_id}\")\n",
    "    A.append(Ai[[\"game_id\"]])\n",
    "A = pd.concat(A)\n",
    "A = A.reset_index(drop=True)"
   ]
  },
  {
   "cell_type": "code",
   "execution_count": 10,
   "metadata": {},
   "outputs": [],
   "source": [
    "import pandas as pd\n",
    "for k,df in pd.concat([A,Y_pred],axis=1).groupby(\"game_id\"):\n",
    "    df = df.reset_index(drop=True)\n",
    "    df[Y_pred.columns].to_hdf(\"../data/predictions.h5\",f\"game_{int(k)}\")"
   ]
  }
 ],
 "metadata": {
  "kernelspec": {
   "display_name": "Python 3",
   "language": "python",
   "name": "python3"
  },
  "language_info": {
   "codemirror_mode": {
    "name": "ipython",
    "version": 3
   },
   "file_extension": ".py",
   "mimetype": "text/x-python",
   "name": "python",
   "nbconvert_exporter": "python",
   "pygments_lexer": "ipython3",
   "version": "3.7.1"
  }
 },
 "nbformat": 4,
 "nbformat_minor": 2
}
