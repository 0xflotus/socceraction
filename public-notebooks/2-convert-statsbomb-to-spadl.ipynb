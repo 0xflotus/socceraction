{
 "cells": [
  {
   "cell_type": "code",
   "execution_count": 1,
   "metadata": {},
   "outputs": [],
   "source": [
    "%load_ext autoreload\n",
    "%autoreload 2\n",
    "import os; import sys; sys.path.insert(0,'../')\n",
    "import warnings\n",
    "import pandas as pd\n",
    "warnings.simplefilter(action='ignore', category=pd.errors.PerformanceWarning)\n",
    "\n",
    "import socceraction.spadl.api as spadl"
   ]
  },
  {
   "cell_type": "code",
   "execution_count": 2,
   "metadata": {},
   "outputs": [],
   "source": [
    "## Configure file and folder names\n",
    "datafolder = \"../data\"\n",
    "statsbomb_json =  os.path.join(datafolder,\"statsbomb-root\",\"open-data-master\",\"data\")\n",
    "statsbomb_h5 = os.path.join(datafolder,\"statsbomb.h5\")\n",
    "spadl_h5 = os.path.join(datafolder,\"spadl-statsbomb.h5\")"
   ]
  },
  {
   "cell_type": "markdown",
   "metadata": {},
   "source": [
    "### Convert raw Statsbomb json files to Statsbomb HDF5 file"
   ]
  },
  {
   "cell_type": "code",
   "execution_count": 3,
   "metadata": {},
   "outputs": [
    {
     "name": "stdout",
     "output_type": "stream",
     "text": [
      "...Adding competitions to ../data/statsbomb.h5\n"
     ]
    },
    {
     "name": "stderr",
     "output_type": "stream",
     "text": [
      "...Adding players and teams to ../data/statsbomb.h5:   6%|▌         | 37/624 [00:00<00:01, 353.92it/s]"
     ]
    },
    {
     "name": "stdout",
     "output_type": "stream",
     "text": [
      "...Adding matches to ../data/statsbomb.h5\n"
     ]
    },
    {
     "name": "stderr",
     "output_type": "stream",
     "text": [
      "...Adding players and teams to ../data/statsbomb.h5: 100%|██████████| 624/624 [00:25<00:00, 24.59it/s]\n",
      "converting events files to ../data/statsbomb.h5: 100%|██████████| 624/624 [02:34<00:00,  4.04it/s]\n"
     ]
    }
   ],
   "source": [
    "spadl.statsbombjson_to_statsbombh5(statsbomb_json,statsbomb_h5)"
   ]
  },
  {
   "cell_type": "markdown",
   "metadata": {},
   "source": [
    "### Inspect StatsBomb HDF5 file"
   ]
  },
  {
   "cell_type": "code",
   "execution_count": 4,
   "metadata": {
    "scrolled": true
   },
   "outputs": [
    {
     "name": "stdout",
     "output_type": "stream",
     "text": [
      "# matches\n",
      "Index(['match_id', 'match_date', 'kick_off', 'competition_id', 'country_name',\n",
      "       'competition_name', 'season_id', 'season_name', 'home_team_id',\n",
      "       'home_team_name', 'home_team_gender', 'home_team_group', 'id', 'name',\n",
      "       'managers', 'away_team_id', 'away_team_name', 'away_team_gender',\n",
      "       'away_team_group', 'home_score', 'away_score', 'match_status',\n",
      "       'last_updated', 'data_version', 'match_week', 'shot_fidelity_version',\n",
      "       'xy_fidelity_version'],\n",
      "      dtype='object') \n",
      "\n",
      "# players\n",
      "Index(['player_id', 'player_name', 'player_nickname', 'jersey_number',\n",
      "       'country_id', 'country_name', 'extra'],\n",
      "      dtype='object') \n",
      "\n",
      "# teams\n",
      "Index(['team_id', 'team_name'], dtype='object') \n",
      "\n",
      "# competitions\n",
      "Index(['competition_id', 'season_id', 'country_name', 'competition_name',\n",
      "       'competition_gender', 'season_name', 'match_updated',\n",
      "       'match_available'],\n",
      "      dtype='object') \n",
      "\n",
      "# events\n",
      "Index(['id', 'index', 'period', 'timestamp', 'minute', 'second', 'type_id',\n",
      "       'type_name', 'possession', 'possession_team_id', 'possession_team_name',\n",
      "       'play_pattern_id', 'play_pattern_name', 'team_id', 'team_name',\n",
      "       'duration', 'extra', 'related_events', 'player_id', 'player_name',\n",
      "       'position_id', 'position_name', 'location', 'under_pressure',\n",
      "       'counterpress', 'match_id'],\n",
      "      dtype='object') \n",
      "\n"
     ]
    }
   ],
   "source": [
    "tablenames = [\"matches\",\"players\",\"teams\",\"competitions\"]\n",
    "tables = {name : pd.read_hdf(statsbomb_h5,key=name) for name in tablenames}\n",
    "\n",
    "match_id = tables[\"matches\"].match_id[0]\n",
    "tables[\"events\"] = pd.read_hdf(statsbomb_h5,f\"events/match_{match_id}\")\n",
    "\n",
    "for k,df in tables.items():\n",
    "    print(\"#\",k)\n",
    "    print(df.columns,\"\\n\")"
   ]
  },
  {
   "cell_type": "markdown",
   "metadata": {},
   "source": [
    "### Convert Statsbomb data (in a HDF5 file) to the SPADL format (in a HDF5 file)"
   ]
  },
  {
   "cell_type": "code",
   "execution_count": 5,
   "metadata": {},
   "outputs": [
    {
     "name": "stderr",
     "output_type": "stream",
     "text": [
      "\r",
      "  0%|          | 0/623 [00:00<?, ?game/s]"
     ]
    },
    {
     "name": "stdout",
     "output_type": "stream",
     "text": [
      "...Converting matches to games\n",
      "...Converting players\n",
      "...Converting teams\n",
      "...Converting competitions\n",
      "...Inserting actiontypes\n",
      "...Inserting bodyparts\n",
      "...Inserting results\n",
      "...Computing playergames (minutes played in each game\n"
     ]
    },
    {
     "name": "stderr",
     "output_type": "stream",
     "text": [
      "100%|██████████| 623/623 [00:45<00:00, 13.68game/s]\n",
      "  0%|          | 0/623 [00:00<?, ?game/s]"
     ]
    },
    {
     "name": "stdout",
     "output_type": "stream",
     "text": [
      "...Converting events to actions\n"
     ]
    },
    {
     "name": "stderr",
     "output_type": "stream",
     "text": [
      "100%|██████████| 623/623 [06:55<00:00,  1.50game/s]\n"
     ]
    }
   ],
   "source": [
    "spadl.statsbombh5_to_spadlh5(statsbomb_h5,spadl_h5)"
   ]
  },
  {
   "cell_type": "markdown",
   "metadata": {},
   "source": [
    "### Inspect SPADL HDF5 file"
   ]
  },
  {
   "cell_type": "code",
   "execution_count": 6,
   "metadata": {
    "scrolled": true
   },
   "outputs": [
    {
     "name": "stdout",
     "output_type": "stream",
     "text": [
      "# games\n",
      "Index(['match_id', 'match_date', 'kick_off', 'competition_id', 'country_name',\n",
      "       'competition_name', 'season_id', 'season_name', 'home_team_id',\n",
      "       'home_team_name', 'home_team_gender', 'home_team_group', 'id', 'name',\n",
      "       'managers', 'away_team_id', 'away_team_name', 'away_team_gender',\n",
      "       'away_team_group', 'home_score', 'away_score', 'match_status',\n",
      "       'last_updated', 'data_version', 'match_week', 'shot_fidelity_version',\n",
      "       'xy_fidelity_version', 'game_id'],\n",
      "      dtype='object') \n",
      "\n",
      "# players\n",
      "Index(['player_id', 'player_name', 'player_nickname', 'jersey_number',\n",
      "       'country_id', 'country_name', 'extra'],\n",
      "      dtype='object') \n",
      "\n",
      "# teams\n",
      "Index(['team_id', 'team_name'], dtype='object') \n",
      "\n",
      "# competitions\n",
      "Index(['competition_id', 'season_id', 'country_name', 'competition_name',\n",
      "       'competition_gender', 'season_name', 'match_updated',\n",
      "       'match_available'],\n",
      "      dtype='object') \n",
      "\n",
      "# actiontypes\n",
      "Index(['type_id', 'type_name'], dtype='object') \n",
      "\n",
      "# bodyparts\n",
      "Index(['bodypart_id', 'bodypart_name'], dtype='object') \n",
      "\n",
      "# results\n",
      "Index(['result_id', 'result_name'], dtype='object') \n",
      "\n",
      "# actions\n",
      "Index(['game_id', 'period_id', 'time_seconds', 'timestamp', 'team_id',\n",
      "       'player_id', 'start_x', 'start_y', 'end_x', 'end_y', 'type_id',\n",
      "       'result_id', 'bodypart_id', 'action_id'],\n",
      "      dtype='object') \n",
      "\n"
     ]
    }
   ],
   "source": [
    "tablenames = [\"games\",\"players\",\"teams\",\"competitions\",\"actiontypes\",\"bodyparts\",\"results\"]\n",
    "tables = {name : pd.read_hdf(spadl_h5,key=name) for name in tablenames}\n",
    "\n",
    "game_id = tables[\"games\"].game_id[0]\n",
    "tables[\"actions\"] = pd.read_hdf(spadl_h5,f\"actions/game_{game_id}\")\n",
    "\n",
    "for k,df in tables.items():\n",
    "    print(\"#\",k)\n",
    "    print(df.columns,\"\\n\")"
   ]
  },
  {
   "cell_type": "markdown",
   "metadata": {},
   "source": [
    "### (optional) Plotting actions\n",
    "Extra library required: ```pip install matplotsoccer```"
   ]
  },
  {
   "cell_type": "code",
   "execution_count": 7,
   "metadata": {},
   "outputs": [
    {
     "name": "stdout",
     "output_type": "stream",
     "text": [
      "2018-07-14 Belgium 2-0 England 82'\n"
     ]
    },
    {
     "data": {
      "text/plain": [
       "<Figure size 600x450 with 1 Axes>"
      ]
     },
     "metadata": {},
     "output_type": "display_data"
    },
    {
     "data": {
      "text/plain": [
       "<Figure size 640x564.614 with 1 Axes>"
      ]
     },
     "metadata": {},
     "output_type": "display_data"
    }
   ],
   "source": [
    "import matplotsoccer\n",
    "\n",
    "tablenames = [\n",
    "    \"games\",\n",
    "    \"players\",\n",
    "    \"teams\",\n",
    "    \"competitions\",\n",
    "    \"actiontypes\",\n",
    "    \"bodyparts\",\n",
    "    \"results\",\n",
    "]\n",
    "tables = {name: pd.read_hdf(spadl_h5, key=name) for name in tablenames}\n",
    "\n",
    "# Select England vs Belgium game at World Cup\n",
    "games = tables[\"games\"].merge(tables[\"competitions\"])\n",
    "game_id = games[(games.competition_name == \"FIFA World Cup\") \n",
    "              & (games.away_team_name == \"England\")\n",
    "              & (games.home_team_name == \"Belgium\")].game_id.values[0]\n",
    "\n",
    "actions = pd.read_hdf(spadl_h5, f\"actions/game_{game_id}\")\n",
    "actions = (\n",
    "    actions.merge(tables[\"actiontypes\"])\n",
    "    .merge(tables[\"results\"])\n",
    "    .merge(tables[\"bodyparts\"])\n",
    "    .merge(tables[\"players\"],\"left\",on=\"player_id\")\n",
    "    .merge(tables[\"teams\"],\"left\",on=\"team_id\")\n",
    "    .sort_values([\"period_id\", \"time_seconds\", \"timestamp\"])\n",
    "    .reset_index(drop=True)\n",
    ")\n",
    "\n",
    "# use nickname if available else use full name\n",
    "actions[\"player\"] = actions[[\"player_nickname\",\"player_name\"]].apply(lambda x: x[0] if x[0] else x[1],axis=1)\n",
    "\n",
    "#shot = 128\n",
    "shot = 2201\n",
    "a = actions[shot-4:shot+1]\n",
    "\n",
    "games = tables[\"games\"]\n",
    "g = list(games[games.game_id == a.game_id.values[0]].itertuples())[0]\n",
    "minute = int((a.period_id.values[0]-1)*45 +a.time_seconds.values[0] // 60) + 1\n",
    "game_info = f\"{g.match_date} {g.home_team_name} {g.home_score}-{g.away_score} {g.away_team_name} {minute}'\"\n",
    "\n",
    "print(game_info)\n",
    "\n",
    "labels = a[[\"time_seconds\", \"type_name\", \"player\", \"team_name\"]]\n",
    "matplotsoccer.actions(\n",
    "    location=a[[\"start_x\", \"start_y\", \"end_x\", \"end_y\"]],\n",
    "    action_type=a.type_name,\n",
    "    team= a.team_name,\n",
    "    result= a.result_name == \"success\",\n",
    "    label=labels,\n",
    "    labeltitle=[\"time\",\"actiontype\",\"player\",\"team\"],\n",
    "    zoom=False,\n",
    "    figsize=6\n",
    ")\n",
    "matplotsoccer.actions(\n",
    "    location=a[[\"start_x\", \"start_y\", \"end_x\", \"end_y\"]],\n",
    "    action_type=a.type_name,\n",
    "    team=a.team_name,\n",
    "    result=a.result_name == \"success\",\n",
    "    label=labels,\n",
    "    labeltitle=[\"time\",\"actiontype\",\"player\",\"team\"],\n",
    "    zoom=True,\n",
    ")"
   ]
  }
 ],
 "metadata": {
  "kernelspec": {
   "display_name": "Python 3",
   "language": "python",
   "name": "python3"
  },
  "language_info": {
   "codemirror_mode": {
    "name": "ipython",
    "version": 3
   },
   "file_extension": ".py",
   "mimetype": "text/x-python",
   "name": "python",
   "nbconvert_exporter": "python",
   "pygments_lexer": "ipython3",
   "version": "3.7.1"
  }
 },
 "nbformat": 4,
 "nbformat_minor": 2
}
