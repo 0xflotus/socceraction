{
 "cells": [
  {
   "cell_type": "markdown",
   "metadata": {},
   "source": [
    "**Disclaimer**: this notebook's compatibility with StatsBomb event data 4.0.0 was last checked on July 24, 2019"
   ]
  },
  {
   "cell_type": "code",
   "execution_count": 11,
   "metadata": {},
   "outputs": [
    {
     "name": "stdout",
     "output_type": "stream",
     "text": [
      "The autoreload extension is already loaded. To reload it, use:\n",
      "  %reload_ext autoreload\n"
     ]
    }
   ],
   "source": [
    "%load_ext autoreload\n",
    "%autoreload 2\n",
    "import os; import sys;\n",
    "import tqdm\n",
    "import requests\n",
    "import math\n",
    "import zipfile"
   ]
  },
  {
   "cell_type": "markdown",
   "metadata": {},
   "source": [
    "## Configure file and folder names"
   ]
  },
  {
   "cell_type": "code",
   "execution_count": 14,
   "metadata": {},
   "outputs": [],
   "source": [
    "datafolder = \"../data\"\n",
    "statsbombzip = os.path.join(datafolder,\"statsbomb-open-data.zip\")\n",
    "statsbombroot = os.path.join(datafolder,\"statsbomb-root\")\n",
    "statsbombdata =  os.path.join(datafolder,\"statsbomb-root\",\"open-data-master\",\"data\")"
   ]
  },
  {
   "cell_type": "markdown",
   "metadata": {},
   "source": [
    "## Download StatsBomb data "
   ]
  },
  {
   "cell_type": "code",
   "execution_count": 8,
   "metadata": {},
   "outputs": [
    {
     "name": "stderr",
     "output_type": "stream",
     "text": [
      "130MB [00:49,  3.34MB/s]                         \n"
     ]
    }
   ],
   "source": [
    "url = \"https://github.com/statsbomb/open-data/archive/master.zip\"\n",
    "\n",
    "# Streaming, so we can iterate over the response.\n",
    "r = requests.get(url, stream=True)\n",
    "\n",
    "# Total size in bytes.\n",
    "total_size = int(r.headers.get(\"content-length\", 0))\n",
    "block_size = 1024 * 1024\n",
    "wrote = 0\n",
    "with open(statsbombzip, \"wb\") as f:\n",
    "    datastream = tqdm.tqdm(\n",
    "        r.iter_content(block_size),\n",
    "        total=math.ceil(total_size // block_size),\n",
    "        unit=\"MB\",\n",
    "        #unit_scale=True,\n",
    "        #unit_divisor=1024\n",
    "    )\n",
    "    for data in datastream:\n",
    "        wrote = wrote + len(data)\n",
    "        f.write(data)\n",
    "if total_size != 0 and wrote != total_size:\n",
    "    print(\"ERROR, something went wrong\")"
   ]
  },
  {
   "cell_type": "markdown",
   "metadata": {},
   "source": [
    "## Extract the StatsBomb zip"
   ]
  },
  {
   "cell_type": "code",
   "execution_count": 15,
   "metadata": {},
   "outputs": [
    {
     "data": {
      "text/plain": [
       "['competitions.json', 'events', 'lineups', 'matches']"
      ]
     },
     "execution_count": 15,
     "metadata": {},
     "output_type": "execute_result"
    }
   ],
   "source": [
    "with zipfile.ZipFile(statsbombzip, 'r') as zipObj:\n",
    "    zipObj.extractall(statsbombroot)\n",
    "\n",
    "os.listdir(statsbombdata)"
   ]
  }
 ],
 "metadata": {
  "kernelspec": {
   "display_name": "Python 3",
   "language": "python",
   "name": "python3"
  },
  "language_info": {
   "codemirror_mode": {
    "name": "ipython",
    "version": 3
   },
   "file_extension": ".py",
   "mimetype": "text/x-python",
   "name": "python",
   "nbconvert_exporter": "python",
   "pygments_lexer": "ipython3",
   "version": "3.6.6"
  }
 },
 "nbformat": 4,
 "nbformat_minor": 2
}
