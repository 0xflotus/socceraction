{
 "cells": [
  {
   "cell_type": "markdown",
   "metadata": {},
   "source": [
    "**Disclaimer**: this notebook's compatibility with StatsBomb event data 4.0.0 was last checked on July 24, 2019"
   ]
  },
  {
   "cell_type": "code",
   "execution_count": 1,
   "metadata": {},
   "outputs": [],
   "source": [
    "%load_ext autoreload\n",
    "%autoreload 2\n",
    "import os; import sys;\n",
    "import tqdm\n",
    "import requests\n",
    "import math\n",
    "import zipfile"
   ]
  },
  {
   "cell_type": "markdown",
   "metadata": {},
   "source": [
    "## Configure file and folder names"
   ]
  },
  {
   "cell_type": "code",
   "execution_count": 2,
   "metadata": {},
   "outputs": [],
   "source": [
    "datafolder = \"../data\"\n",
    "statsbombzip = os.path.join(datafolder,\"statsbomb-open-data.zip\")\n",
    "statsbombroot = os.path.join(datafolder,\"statsbomb-root\")\n",
    "statsbombdata =  os.path.join(datafolder,\"statsbomb-root\",\"open-data-master\",\"data\")"
   ]
  },
  {
   "cell_type": "code",
   "execution_count": 5,
   "metadata": {},
   "outputs": [
    {
     "name": "stdout",
     "output_type": "stream",
     "text": [
      "Directory ../data created \n"
     ]
    }
   ],
   "source": [
    "# Create data folder if it doesn't exist\n",
    "if not os.path.exists(datafolder):\n",
    "    os.mkdir(datafolder)\n",
    "    print(f\"Directory {datafolder} created \")"
   ]
  },
  {
   "cell_type": "markdown",
   "metadata": {},
   "source": [
    "## Download StatsBomb data "
   ]
  },
  {
   "cell_type": "code",
   "execution_count": 6,
   "metadata": {},
   "outputs": [
    {
     "name": "stderr",
     "output_type": "stream",
     "text": [
      "175MB [00:43,  4.06MB/s]\n"
     ]
    }
   ],
   "source": [
    "url = \"https://github.com/statsbomb/open-data/archive/master.zip\"\n",
    "\n",
    "# Streaming, so we can iterate over the response.\n",
    "r = requests.get(url, stream=True)\n",
    "\n",
    "# Total size in bytes.\n",
    "total_size = int(r.headers.get(\"content-length\", 0))\n",
    "block_size = 1024 * 1024\n",
    "wrote = 0\n",
    "with open(statsbombzip, \"wb\") as f:\n",
    "    datastream = tqdm.tqdm(\n",
    "        r.iter_content(block_size),\n",
    "        total=math.ceil(total_size // block_size),\n",
    "        unit=\"MB\",\n",
    "        #unit_scale=True,\n",
    "        #unit_divisor=1024\n",
    "    )\n",
    "    for data in datastream:\n",
    "        wrote = wrote + len(data)\n",
    "        f.write(data)\n",
    "if total_size != 0 and wrote != total_size:\n",
    "    print(\"ERROR, something went wrong\")"
   ]
  },
  {
   "cell_type": "markdown",
   "metadata": {},
   "source": [
    "## Extract the StatsBomb zip"
   ]
  },
  {
   "cell_type": "code",
   "execution_count": null,
   "metadata": {},
   "outputs": [],
   "source": [
    "with zipfile.ZipFile(statsbombzip, 'r') as zipObj:\n",
    "    zipObj.extractall(statsbombroot)\n",
    "\n",
    "os.listdir(statsbombdata)"
   ]
  }
 ],
 "metadata": {
  "kernelspec": {
   "display_name": "soccer_rating_pressing-3.6.2",
   "language": "python",
   "name": "soccer_rating_pressing-3.6.2"
  },
  "language_info": {
   "codemirror_mode": {
    "name": "ipython",
    "version": 3
   },
   "file_extension": ".py",
   "mimetype": "text/x-python",
   "name": "python",
   "nbconvert_exporter": "python",
   "pygments_lexer": "ipython3",
   "version": "3.6.2"
  },
  "toc": {
   "base_numbering": 1,
   "nav_menu": {},
   "number_sections": true,
   "sideBar": true,
   "skip_h1_title": false,
   "title_cell": "Table of Contents",
   "title_sidebar": "Contents",
   "toc_cell": false,
   "toc_position": {},
   "toc_section_display": true,
   "toc_window_display": true
  }
 },
 "nbformat": 4,
 "nbformat_minor": 2
}
